{
 "cells": [
  {
   "cell_type": "code",
   "execution_count": 1,
   "metadata": {},
   "outputs": [
    {
     "name": "stderr",
     "output_type": "stream",
     "text": [
      "Using TensorFlow backend.\n"
     ]
    }
   ],
   "source": [
    "# auto reload modules\n",
    "%reload_ext autoreload\n",
    "%autoreload 2\n",
    "\n",
    "import numpy as np\n",
    "import keras\n",
    "\n",
    "import sys\n",
    "sys.path.append('../')\n",
    "from DataLoader import *\n",
    "from Models import *\n",
    "\n",
    "DIR_FEAT_DATA = '../../features/gtzan/h5/ff/'\n",
    "NUM_CLASS = 10\n",
    "FEAT_TYPES = ['original', 'harmonic', 'percussive', \n",
    "                  'modulation', 'mfcc']\n",
    "FEAT_SHAPES = [(96, 1292), (96, 1292), (96, 1292), \n",
    "              (96, 646), (60, 1292)]"
   ]
  },
  {
   "cell_type": "code",
   "execution_count": 2,
   "metadata": {},
   "outputs": [],
   "source": [
    "dataloader = DataLoader(DIR_FEAT_DATA)\n",
    "models = Models(num_class=NUM_CLASS)"
   ]
  },
  {
   "cell_type": "code",
   "execution_count": 3,
   "metadata": {},
   "outputs": [
    {
     "name": "stdout",
     "output_type": "stream",
     "text": [
      "in the original feature, the performance of corresponding expert:\n",
      "loading original data\n",
      "290/290 [==============================] - 2s 6ms/step\n",
      "[1.8026221911455023, 0.6206896551724138]\n",
      "\n",
      "in the harmonic feature, the performance of corresponding expert:\n",
      "loading harmonic data\n",
      "290/290 [==============================] - 1s 3ms/step\n",
      "[1.8388927314302017, 0.6103448275862069]\n",
      "\n",
      "in the percussive feature, the performance of corresponding expert:\n",
      "loading percussive data\n",
      "290/290 [==============================] - 1s 3ms/step\n",
      "[2.0096023144393134, 0.6]\n",
      "\n",
      "in the modulation feature, the performance of corresponding expert:\n",
      "loading modulation data\n",
      "290/290 [==============================] - 1s 3ms/step\n",
      "[2.0711294867355248, 0.5862068965517241]\n",
      "\n",
      "in the mfcc feature, the performance of corresponding expert:\n",
      "loading mfcc data\n",
      "290/290 [==============================] - 1s 3ms/step\n",
      "[1.7076017634621983, 0.5551724137931034]\n",
      "\n"
     ]
    }
   ],
   "source": [
    "for i in range(len(FEAT_TYPES)):\n",
    "    feat_type = FEAT_TYPES[i]\n",
    "    feat_shape = FEAT_SHAPES[i]\n",
    "    print('in the {} feature, the performance of corresponding expert:'.format(\n",
    "        feat_type))\n",
    "    [_, _, x_test], [_, _, y_test] = \\\n",
    "        DataLoader(DIR_FEAT_DATA, feat_type).load_feature_data()\n",
    "    model = models.build_cnn_k2c2(feat_type, feat_shape, NUM_CLASS)\n",
    "    model.load_weights('./weights/{}.hdf5'.format(feat_type))\n",
    "    print(model.evaluate(x_test, y_test, batch_size=16))\n",
    "    print()"
   ]
  },
  {
   "cell_type": "code",
   "execution_count": 5,
   "metadata": {},
   "outputs": [
    {
     "name": "stdout",
     "output_type": "stream",
     "text": [
      "we have multiple feature types:\n",
      "  loading original data\n",
      "  loading harmonic data\n",
      "  loading percussive data\n",
      "  loading modulation data\n",
      "building MoEB\n",
      "290/290 [==============================] - 4s 13ms/step\n"
     ]
    },
    {
     "data": {
      "text/plain": [
       "[1.1798858620997132, 0.6517241379310345]"
      ]
     },
     "execution_count": 5,
     "metadata": {},
     "output_type": "execute_result"
    }
   ],
   "source": [
    "[x_train, x_valid, x_test], [y_train, y_valid, y_test] = \\\n",
    "    dataloader.load_feature_data()\n",
    "moeb = models.build_moe_baseline()\n",
    "moeb.evaluate(x_test, y_test, batch_size=16)"
   ]
  },
  {
   "cell_type": "code",
   "execution_count": 6,
   "metadata": {},
   "outputs": [
    {
     "name": "stdout",
     "output_type": "stream",
     "text": [
      "loading data for MoEC\n",
      "we have multiple feature types:\n",
      "  loading original data\n",
      "  loading harmonic data\n",
      "  loading percussive data\n",
      "  loading modulation data\n",
      "building moe with cnn\n",
      "290/290 [==============================] - 5s 16ms/step\n"
     ]
    },
    {
     "data": {
      "text/plain": [
       "[1.4840596496673493, 0.6482758620689655]"
      ]
     },
     "execution_count": 6,
     "metadata": {},
     "output_type": "execute_result"
    }
   ],
   "source": [
    "[x_train, x_valid, x_test], [y_train, y_valid, y_test] = \\\n",
    "    dataloader.load_moe_mixer_data('cnn')\n",
    "moec = models.build_moe_mixer('cnn')\n",
    "moec.load_weights('./weights/moec.hdf5')\n",
    "moec.evaluate(x_test, y_test, batch_size=16)"
   ]
  },
  {
   "cell_type": "code",
   "execution_count": 7,
   "metadata": {
    "scrolled": false
   },
   "outputs": [
    {
     "name": "stdout",
     "output_type": "stream",
     "text": [
      "loading data for MoER\n",
      "we have multiple feature types:\n",
      "  loading original data\n",
      "  loading harmonic data\n",
      "  loading percussive data\n",
      "  loading modulation data\n",
      "building moe with rnn\n",
      "290/290 [==============================] - 5s 18ms/step\n"
     ]
    },
    {
     "data": {
      "text/plain": [
       "[1.2067318114227261, 0.6689655172413793]"
      ]
     },
     "execution_count": 7,
     "metadata": {},
     "output_type": "execute_result"
    }
   ],
   "source": [
    "[x_train, x_valid, x_test], [y_train, y_valid, y_test] = \\\n",
    "    dataloader.load_moe_mixer_data('rnn')\n",
    "moer = models.build_moe_mixer('rnn')\n",
    "moer.load_weights('./weights/moer.hdf5')\n",
    "moer.evaluate(x_test, y_test, batch_size=16)"
   ]
  }
 ],
 "metadata": {
  "kernelspec": {
   "display_name": "mir (tf1.12)",
   "language": "python",
   "name": "mir"
  },
  "language_info": {
   "codemirror_mode": {
    "name": "ipython",
    "version": 3
   },
   "file_extension": ".py",
   "mimetype": "text/x-python",
   "name": "python",
   "nbconvert_exporter": "python",
   "pygments_lexer": "ipython3",
   "version": "3.6.9"
  }
 },
 "nbformat": 4,
 "nbformat_minor": 2
}
