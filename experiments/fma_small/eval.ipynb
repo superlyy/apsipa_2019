{
 "cells": [
  {
   "cell_type": "code",
   "execution_count": 1,
   "metadata": {},
   "outputs": [
    {
     "name": "stderr",
     "output_type": "stream",
     "text": [
      "Using TensorFlow backend.\n"
     ]
    }
   ],
   "source": [
    "# auto reload modules\n",
    "%reload_ext autoreload\n",
    "%autoreload 2\n",
    "\n",
    "import numpy as np\n",
    "import keras\n",
    "\n",
    "import sys\n",
    "sys.path.append('../')\n",
    "from DataLoader import *\n",
    "from Models import *\n",
    "\n",
    "DIR_FEAT_DATA = '../../features/fma_small/h5/'\n",
    "NUM_CLASS = 8\n",
    "FEAT_TYPES = ['original', 'harmonic', 'percussive', \n",
    "                  'modulation', 'mfcc']\n",
    "FEAT_SHAPES = [(96, 1292), (96, 1292), (96, 1292), \n",
    "              (96, 646), (60, 1292)]"
   ]
  },
  {
   "cell_type": "code",
   "execution_count": 2,
   "metadata": {},
   "outputs": [],
   "source": [
    "dataloader = DataLoader(DIR_FEAT_DATA)\n",
    "models = Models(num_class=NUM_CLASS)"
   ]
  },
  {
   "cell_type": "code",
   "execution_count": 3,
   "metadata": {},
   "outputs": [
    {
     "name": "stdout",
     "output_type": "stream",
     "text": [
      "in the original feature, the performance of corresponding expert:\n",
      "loading original data\n",
      "800/800 [==============================] - 3s 4ms/step\n",
      "[1.5403495192527772, 0.49375]\n",
      "\n",
      "in the harmonic feature, the performance of corresponding expert:\n",
      "loading harmonic data\n",
      "800/800 [==============================] - 3s 3ms/step\n",
      "[1.603884198665619, 0.43375]\n",
      "\n",
      "in the percussive feature, the performance of corresponding expert:\n",
      "loading percussive data\n",
      "800/800 [==============================] - 3s 3ms/step\n",
      "[1.4900426787137986, 0.50875]\n",
      "\n",
      "in the modulation feature, the performance of corresponding expert:\n",
      "loading modulation data\n",
      "800/800 [==============================] - 2s 2ms/step\n",
      "[1.3619031262397767, 0.55625]\n",
      "\n",
      "in the mfcc feature, the performance of corresponding expert:\n",
      "loading mfcc data\n",
      "800/800 [==============================] - 2s 2ms/step\n",
      "[1.6511696290969848, 0.47125]\n",
      "\n"
     ]
    }
   ],
   "source": [
    "for i in range(len(FEAT_TYPES)):\n",
    "    feat_type = FEAT_TYPES[i]\n",
    "    feat_shape = FEAT_SHAPES[i]\n",
    "    print('in the {} feature, the performance of corresponding expert:'.format(\n",
    "        feat_type))\n",
    "    [_, _, x_test], [_, _, y_test] = \\\n",
    "        DataLoader(DIR_FEAT_DATA, feat_type).load_feature_data()\n",
    "    model = models.build_cnn_k2c2(feat_type, feat_shape, NUM_CLASS)\n",
    "    model.load_weights('./weights/{}.hdf5'.format(feat_type))\n",
    "    print(model.evaluate(x_test, y_test, batch_size=16))\n",
    "    print()"
   ]
  },
  {
   "cell_type": "code",
   "execution_count": 4,
   "metadata": {},
   "outputs": [
    {
     "name": "stdout",
     "output_type": "stream",
     "text": [
      "we have multiple feature types:\n",
      "  loading original data\n",
      "  loading harmonic data\n",
      "  loading percussive data\n",
      "  loading modulation data\n",
      "building MoEB\n",
      "800/800 [==============================] - 9s 12ms/step\n"
     ]
    },
    {
     "data": {
      "text/plain": [
       "[1.3260606652498246, 0.54125]"
      ]
     },
     "execution_count": 4,
     "metadata": {},
     "output_type": "execute_result"
    }
   ],
   "source": [
    "[x_train, x_valid, x_test], [y_train, y_valid, y_test] = \\\n",
    "    dataloader.load_feature_data()\n",
    "moeb = models.build_moe_baseline()\n",
    "moeb.evaluate(x_test, y_test, batch_size=16)"
   ]
  },
  {
   "cell_type": "code",
   "execution_count": 5,
   "metadata": {},
   "outputs": [
    {
     "name": "stdout",
     "output_type": "stream",
     "text": [
      "loading data for MoEC\n",
      "we have multiple feature types:\n",
      "  loading original data\n",
      "  loading harmonic data\n",
      "  loading percussive data\n",
      "  loading modulation data\n",
      "building moe with cnn\n",
      "800/800 [==============================] - 12s 15ms/step\n"
     ]
    },
    {
     "data": {
      "text/plain": [
       "[1.3874266040325165, 0.55625]"
      ]
     },
     "execution_count": 5,
     "metadata": {},
     "output_type": "execute_result"
    }
   ],
   "source": [
    "[x_train, x_valid, x_test], [y_train, y_valid, y_test] = \\\n",
    "    dataloader.load_moe_mixer_data('cnn')\n",
    "moec = models.build_moe_mixer('cnn')\n",
    "moec.load_weights('./weights/moec.hdf5')\n",
    "moec.evaluate(x_test, y_test, batch_size=16)"
   ]
  },
  {
   "cell_type": "code",
   "execution_count": 6,
   "metadata": {},
   "outputs": [
    {
     "name": "stdout",
     "output_type": "stream",
     "text": [
      "loading data for MoER\n",
      "we have multiple feature types:\n",
      "  loading original data\n",
      "  loading harmonic data\n",
      "  loading percussive data\n",
      "  loading modulation data\n",
      "building moe with rnn\n",
      "800/800 [==============================] - 13s 16ms/step\n"
     ]
    },
    {
     "data": {
      "text/plain": [
       "[1.3363411927223205, 0.55875]"
      ]
     },
     "execution_count": 6,
     "metadata": {},
     "output_type": "execute_result"
    }
   ],
   "source": [
    "[x_train, x_valid, x_test], [y_train, y_valid, y_test] = \\\n",
    "    dataloader.load_moe_mixer_data('rnn')\n",
    "moer = models.build_moe_mixer('rnn')\n",
    "moer.load_weights('./weights/moer.hdf5')\n",
    "moer.evaluate(x_test, y_test, batch_size=16)"
   ]
  }
 ],
 "metadata": {
  "kernelspec": {
   "display_name": "mir (tf1.12)",
   "language": "python",
   "name": "mir"
  },
  "language_info": {
   "codemirror_mode": {
    "name": "ipython",
    "version": 3
   },
   "file_extension": ".py",
   "mimetype": "text/x-python",
   "name": "python",
   "nbconvert_exporter": "python",
   "pygments_lexer": "ipython3",
   "version": "3.6.9"
  }
 },
 "nbformat": 4,
 "nbformat_minor": 2
}
